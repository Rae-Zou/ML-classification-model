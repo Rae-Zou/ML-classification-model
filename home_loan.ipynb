{
 "cells": [
  {
   "cell_type": "markdown",
   "metadata": {},
   "source": [
    "## Data Format\n",
 
    "- Loan_ID       =      Unique Loan ID\n",
    "- Gender        =      Male/ Female\n",
    "- Married       =      Applicant married (Y/N)\n",
    "- Dependents    =      Number of dependents\n",
    "- Education     =      Applicant Education (Graduate/ Under Graduate)\n",
    "- Self_Employed =      Self-employed (Y/N)\n",
    "- ApplicantIncome  =   Applicant income\n",
    "- CoapplicantIncome =  Coapplicant income\n",
    "- LoanAmount        =  Loan amount in thousands\n",
    "- Loan_Amount_Term  =  Term of loan in months\n",
    "- Credit_History    =  Credit history meets guidelines (0: Bad, 1: Good)\n",
    "- Property_Area     =  Urban/ Semi Urban/ Rural\n",
    "- Loan_Status       =  Loan approved (Y/N)\n"
   ]
  },
  {
   "cell_type": "code",
   "execution_count": 1,
   "metadata": {},
   "outputs": [],
   "source": [
    "import warnings\n",
    "import numpy as np\n",
    "import pandas as pd\n",
    "\n",
    "%matplotlib inline\n",
    "import matplotlib as mpl\n",
    "import matplotlib.pyplot as plt\n",
    "\n",
    "import sklearn\n",
    "from sklearn.model_selection import train_test_split\n",
    "from sklearn.pipeline import Pipeline\n",
    "from sklearn.impute import SimpleImputer\n",
    "from sklearn.preprocessing import StandardScaler\n",
    "from sklearn.ensemble import RandomForestRegressor\n",
    "from sklearn.model_selection import GridSearchCV\n",
    "from sklearn.metrics import mean_squared_error\n",
    "from sklearn.linear_model import LinearRegression\n",
    "warnings.filterwarnings('ignore')"
   ]
  },
  {
   "cell_type": "code",
   "execution_count": 2,
   "metadata": {},
   "outputs": [
    {
     "data": {
      "text/plain": [
       "'0.24.1'"
      ]
     },
     "execution_count": 2,
     "metadata": {},
     "output_type": "execute_result"
    }
   ],
   "source": [
    "sklearn.__version__"
   ]
  },
  {
   "cell_type": "markdown",
   "metadata": {},
   "source": [
    "### Load the dataset"
   ]
  },
  {
   "cell_type": "code",
   "execution_count": 3,
   "metadata": {},
   "outputs": [],
   "source": [
    "# Load the data \n",
    "train_data = pd.read_csv(r'C:\\Users\\asus\\Desktop\\DATA201\\DATASETS\\train.csv')\n",
    "test_data = pd.read_csv(r'C:\\Users\\asus\\Desktop\\DATA201\\DATASETS\\test.csv')"
   ]
  },
  {
   "cell_type": "code",
   "execution_count": 4,
   "metadata": {},
   "outputs": [],
   "source": [
    "# determine the target column\n",
    "target_column = 'Loan_Status'"
   ]
  },
  {
   "cell_type": "code",
   "execution_count": 5,
   "metadata": {},
   "outputs": [],
   "source": [
    "# remove irrelevant variables\n",
    "train_data = train_data.drop(\"Loan_ID\", axis=1)\n",
    "test_data = test_data.drop(\"Loan_ID\", axis=1)"
   ]
  },
  {
   "cell_type": "code",
   "execution_count": 6,
   "metadata": {},
   "outputs": [
    {
     "data": {
      "text/html": [
       "<div>\n",
       "<style scoped>\n",
       "    .dataframe tbody tr th:only-of-type {\n",
       "        vertical-align: middle;\n",
       "    }\n",
       "\n",
       "    .dataframe tbody tr th {\n",
       "        vertical-align: top;\n",
       "    }\n",
       "\n",
       "    .dataframe thead th {\n",
       "        text-align: right;\n",
       "    }\n",
       "</style>\n",
       "<table border=\"1\" class=\"dataframe\">\n",
       "  <thead>\n",
       "    <tr style=\"text-align: right;\">\n",
       "      <th></th>\n",
       "      <th>Gender</th>\n",
       "      <th>Married</th>\n",
       "      <th>Dependents</th>\n",
       "      <th>Education</th>\n",
       "      <th>Self_Employed</th>\n",
       "      <th>ApplicantIncome</th>\n",
       "      <th>CoapplicantIncome</th>\n",
       "      <th>LoanAmount</th>\n",
       "      <th>Loan_Amount_Term</th>\n",
       "      <th>Credit_History</th>\n",
       "      <th>Property_Area</th>\n",
       "      <th>Loan_Status</th>\n",
       "    </tr>\n",
       "  </thead>\n",
       "  <tbody>\n",
       "    <tr>\n",
       "      <th>0</th>\n",
       "      <td>Male</td>\n",
       "      <td>Yes</td>\n",
       "      <td>0</td>\n",
       "      <td>Graduate</td>\n",
       "      <td>No</td>\n",
       "      <td>1025</td>\n",
       "      <td>5500.0</td>\n",
       "      <td>216.0</td>\n",
       "      <td>360.0</td>\n",
       "      <td>NaN</td>\n",
       "      <td>Rural</td>\n",
       "      <td>Y</td>\n",
       "    </tr>\n",
       "    <tr>\n",
       "      <th>1</th>\n",
       "      <td>Male</td>\n",
       "      <td>Yes</td>\n",
       "      <td>3+</td>\n",
       "      <td>Graduate</td>\n",
       "      <td>Yes</td>\n",
       "      <td>5677</td>\n",
       "      <td>1424.0</td>\n",
       "      <td>100.0</td>\n",
       "      <td>360.0</td>\n",
       "      <td>1.0</td>\n",
       "      <td>Rural</td>\n",
       "      <td>Y</td>\n",
       "    </tr>\n",
       "    <tr>\n",
       "      <th>2</th>\n",
       "      <td>Male</td>\n",
       "      <td>No</td>\n",
       "      <td>0</td>\n",
       "      <td>Graduate</td>\n",
       "      <td>Yes</td>\n",
       "      <td>7085</td>\n",
       "      <td>0.0</td>\n",
       "      <td>84.0</td>\n",
       "      <td>360.0</td>\n",
       "      <td>1.0</td>\n",
       "      <td>Semiurban</td>\n",
       "      <td>Y</td>\n",
       "    </tr>\n",
       "    <tr>\n",
       "      <th>3</th>\n",
       "      <td>Male</td>\n",
       "      <td>Yes</td>\n",
       "      <td>1</td>\n",
       "      <td>Graduate</td>\n",
       "      <td>Yes</td>\n",
       "      <td>2895</td>\n",
       "      <td>0.0</td>\n",
       "      <td>95.0</td>\n",
       "      <td>360.0</td>\n",
       "      <td>1.0</td>\n",
       "      <td>Semiurban</td>\n",
       "      <td>Y</td>\n",
       "    </tr>\n",
       "    <tr>\n",
       "      <th>4</th>\n",
       "      <td>Male</td>\n",
       "      <td>Yes</td>\n",
       "      <td>2</td>\n",
       "      <td>Not Graduate</td>\n",
       "      <td>No</td>\n",
       "      <td>6125</td>\n",
       "      <td>1625.0</td>\n",
       "      <td>187.0</td>\n",
       "      <td>480.0</td>\n",
       "      <td>1.0</td>\n",
       "      <td>Semiurban</td>\n",
       "      <td>N</td>\n",
       "    </tr>\n",
       "  </tbody>\n",
       "</table>\n",
       "</div>"
      ],
      "text/plain": [
       "  Gender Married Dependents     Education Self_Employed  ApplicantIncome  \\\n",
       "0   Male     Yes          0      Graduate            No             1025   \n",
       "1   Male     Yes         3+      Graduate           Yes             5677   \n",
       "2   Male      No          0      Graduate           Yes             7085   \n",
       "3   Male     Yes          1      Graduate           Yes             2895   \n",
       "4   Male     Yes          2  Not Graduate            No             6125   \n",
       "\n",
       "   CoapplicantIncome  LoanAmount  Loan_Amount_Term  Credit_History  \\\n",
       "0             5500.0       216.0             360.0             NaN   \n",
       "1             1424.0       100.0             360.0             1.0   \n",
       "2                0.0        84.0             360.0             1.0   \n",
       "3                0.0        95.0             360.0             1.0   \n",
       "4             1625.0       187.0             480.0             1.0   \n",
       "\n",
       "  Property_Area Loan_Status  \n",
       "0         Rural           Y  \n",
       "1         Rural           Y  \n",
       "2     Semiurban           Y  \n",
       "3     Semiurban           Y  \n",
       "4     Semiurban           N  "
      ]
     },
     "execution_count": 6,
     "metadata": {},
     "output_type": "execute_result"
    }
   ],
   "source": [
    "train_data.head()"
   ]
  },
  {
   "cell_type": "code",
   "execution_count": 7,
   "metadata": {},
   "outputs": [],
   "source": [
    "# convert the target column from categorical to numerical \n",
    "train_data[target_column].replace({\"N\":0, \"Y\":1}, inplace=True)\n",
    "test_data[target_column].replace({\"N\":0, \"Y\":1}, inplace=True)"
   ]
  },
  {
   "cell_type": "code",
   "execution_count": 8,
   "metadata": {},
   "outputs": [],
   "source": [
    "# # convert yes/no to 1/0\n",
    "# train_data['Loan_Status'] = train_data.Loan_Status.eq('Y').mul(1)\n",
    "# test_data['Loan_Status'] = test_data.Loan_Status.eq('Y').mul(1)"
   ]
  },
  {
   "cell_type": "code",
   "execution_count": 9,
   "metadata": {},
   "outputs": [
    {
     "data": {
      "text/html": [
       "<div>\n",
       "<style scoped>\n",
       "    .dataframe tbody tr th:only-of-type {\n",
       "        vertical-align: middle;\n",
       "    }\n",
       "\n",
       "    .dataframe tbody tr th {\n",
       "        vertical-align: top;\n",
       "    }\n",
       "\n",
       "    .dataframe thead th {\n",
       "        text-align: right;\n",
       "    }\n",
       "</style>\n",
       "<table border=\"1\" class=\"dataframe\">\n",
       "  <thead>\n",
       "    <tr style=\"text-align: right;\">\n",
       "      <th></th>\n",
       "      <th>ApplicantIncome</th>\n",
       "      <th>CoapplicantIncome</th>\n",
       "      <th>LoanAmount</th>\n",
       "      <th>Loan_Amount_Term</th>\n",
       "      <th>Credit_History</th>\n",
       "      <th>Loan_Status</th>\n",
       "    </tr>\n",
       "  </thead>\n",
       "  <tbody>\n",
       "    <tr>\n",
       "      <th>count</th>\n",
       "      <td>491.000000</td>\n",
       "      <td>491.000000</td>\n",
       "      <td>473.000000</td>\n",
       "      <td>480.0000</td>\n",
       "      <td>452.000000</td>\n",
       "      <td>491.000000</td>\n",
       "    </tr>\n",
       "    <tr>\n",
       "      <th>mean</th>\n",
       "      <td>5354.780041</td>\n",
       "      <td>1562.686191</td>\n",
       "      <td>144.355180</td>\n",
       "      <td>342.5250</td>\n",
       "      <td>0.840708</td>\n",
       "      <td>0.686354</td>\n",
       "    </tr>\n",
       "    <tr>\n",
       "      <th>std</th>\n",
       "      <td>6339.972679</td>\n",
       "      <td>2792.527894</td>\n",
       "      <td>81.475461</td>\n",
       "      <td>64.5011</td>\n",
       "      <td>0.366354</td>\n",
       "      <td>0.464447</td>\n",
       "    </tr>\n",
       "    <tr>\n",
       "      <th>min</th>\n",
       "      <td>150.000000</td>\n",
       "      <td>0.000000</td>\n",
       "      <td>9.000000</td>\n",
       "      <td>12.0000</td>\n",
       "      <td>0.000000</td>\n",
       "      <td>0.000000</td>\n",
       "    </tr>\n",
       "    <tr>\n",
       "      <th>25%</th>\n",
       "      <td>2833.000000</td>\n",
       "      <td>0.000000</td>\n",
       "      <td>100.000000</td>\n",
       "      <td>360.0000</td>\n",
       "      <td>1.000000</td>\n",
       "      <td>0.000000</td>\n",
       "    </tr>\n",
       "    <tr>\n",
       "      <th>50%</th>\n",
       "      <td>3813.000000</td>\n",
       "      <td>1041.000000</td>\n",
       "      <td>126.000000</td>\n",
       "      <td>360.0000</td>\n",
       "      <td>1.000000</td>\n",
       "      <td>1.000000</td>\n",
       "    </tr>\n",
       "    <tr>\n",
       "      <th>75%</th>\n",
       "      <td>5699.000000</td>\n",
       "      <td>2227.500000</td>\n",
       "      <td>165.000000</td>\n",
       "      <td>360.0000</td>\n",
       "      <td>1.000000</td>\n",
       "      <td>1.000000</td>\n",
       "    </tr>\n",
       "    <tr>\n",
       "      <th>max</th>\n",
       "      <td>81000.000000</td>\n",
       "      <td>41667.000000</td>\n",
       "      <td>700.000000</td>\n",
       "      <td>480.0000</td>\n",
       "      <td>1.000000</td>\n",
       "      <td>1.000000</td>\n",
       "    </tr>\n",
       "  </tbody>\n",
       "</table>\n",
       "</div>"
      ],
      "text/plain": [
       "       ApplicantIncome  CoapplicantIncome  LoanAmount  Loan_Amount_Term  \\\n",
       "count       491.000000         491.000000  473.000000          480.0000   \n",
       "mean       5354.780041        1562.686191  144.355180          342.5250   \n",
       "std        6339.972679        2792.527894   81.475461           64.5011   \n",
       "min         150.000000           0.000000    9.000000           12.0000   \n",
       "25%        2833.000000           0.000000  100.000000          360.0000   \n",
       "50%        3813.000000        1041.000000  126.000000          360.0000   \n",
       "75%        5699.000000        2227.500000  165.000000          360.0000   \n",
       "max       81000.000000       41667.000000  700.000000          480.0000   \n",
       "\n",
       "       Credit_History  Loan_Status  \n",
       "count      452.000000   491.000000  \n",
       "mean         0.840708     0.686354  \n",
       "std          0.366354     0.464447  \n",
       "min          0.000000     0.000000  \n",
       "25%          1.000000     0.000000  \n",
       "50%          1.000000     1.000000  \n",
       "75%          1.000000     1.000000  \n",
       "max          1.000000     1.000000  "
      ]
     },
     "execution_count": 9,
     "metadata": {},
     "output_type": "execute_result"
    }
   ],
   "source": [
    "train_data.describe()"
   ]
  },
  {
   "cell_type": "code",
   "execution_count": 10,
   "metadata": {},
   "outputs": [
    {
     "data": {
      "text/html": [
       "<div>\n",
       "<style scoped>\n",
       "    .dataframe tbody tr th:only-of-type {\n",
       "        vertical-align: middle;\n",
       "    }\n",
       "\n",
       "    .dataframe tbody tr th {\n",
       "        vertical-align: top;\n",
       "    }\n",
       "\n",
       "    .dataframe thead th {\n",
       "        text-align: right;\n",
       "    }\n",
       "</style>\n",
       "<table border=\"1\" class=\"dataframe\">\n",
       "  <thead>\n",
       "    <tr style=\"text-align: right;\">\n",
       "      <th></th>\n",
       "      <th>Gender</th>\n",
       "      <th>Married</th>\n",
       "      <th>Dependents</th>\n",
       "      <th>Education</th>\n",
       "      <th>Self_Employed</th>\n",
       "      <th>ApplicantIncome</th>\n",
       "      <th>CoapplicantIncome</th>\n",
       "      <th>LoanAmount</th>\n",
       "      <th>Loan_Amount_Term</th>\n",
       "      <th>Credit_History</th>\n",
       "      <th>Property_Area</th>\n",
       "      <th>Loan_Status</th>\n",
       "    </tr>\n",
       "  </thead>\n",
       "  <tbody>\n",
       "    <tr>\n",
       "      <th>0</th>\n",
       "      <td>Male</td>\n",
       "      <td>Yes</td>\n",
       "      <td>0</td>\n",
       "      <td>Graduate</td>\n",
       "      <td>No</td>\n",
       "      <td>1025</td>\n",
       "      <td>5500.0</td>\n",
       "      <td>216.0</td>\n",
       "      <td>360.0</td>\n",
       "      <td>NaN</td>\n",
       "      <td>Rural</td>\n",
       "      <td>1</td>\n",
       "    </tr>\n",
       "    <tr>\n",
       "      <th>1</th>\n",
       "      <td>Male</td>\n",
       "      <td>Yes</td>\n",
       "      <td>3+</td>\n",
       "      <td>Graduate</td>\n",
       "      <td>Yes</td>\n",
       "      <td>5677</td>\n",
       "      <td>1424.0</td>\n",
       "      <td>100.0</td>\n",
       "      <td>360.0</td>\n",
       "      <td>1.0</td>\n",
       "      <td>Rural</td>\n",
       "      <td>1</td>\n",
       "    </tr>\n",
       "    <tr>\n",
       "      <th>2</th>\n",
       "      <td>Male</td>\n",
       "      <td>No</td>\n",
       "      <td>0</td>\n",
       "      <td>Graduate</td>\n",
       "      <td>Yes</td>\n",
       "      <td>7085</td>\n",
       "      <td>0.0</td>\n",
       "      <td>84.0</td>\n",
       "      <td>360.0</td>\n",
       "      <td>1.0</td>\n",
       "      <td>Semiurban</td>\n",
       "      <td>1</td>\n",
       "    </tr>\n",
       "    <tr>\n",
       "      <th>3</th>\n",
       "      <td>Male</td>\n",
       "      <td>Yes</td>\n",
       "      <td>1</td>\n",
       "      <td>Graduate</td>\n",
       "      <td>Yes</td>\n",
       "      <td>2895</td>\n",
       "      <td>0.0</td>\n",
       "      <td>95.0</td>\n",
       "      <td>360.0</td>\n",
       "      <td>1.0</td>\n",
       "      <td>Semiurban</td>\n",
       "      <td>1</td>\n",
       "    </tr>\n",
       "    <tr>\n",
       "      <th>4</th>\n",
       "      <td>Male</td>\n",
       "      <td>Yes</td>\n",
       "      <td>2</td>\n",
       "      <td>Not Graduate</td>\n",
       "      <td>No</td>\n",
       "      <td>6125</td>\n",
       "      <td>1625.0</td>\n",
       "      <td>187.0</td>\n",
       "      <td>480.0</td>\n",
       "      <td>1.0</td>\n",
       "      <td>Semiurban</td>\n",
       "      <td>0</td>\n",
       "    </tr>\n",
       "  </tbody>\n",
       "</table>\n",
       "</div>"
      ],
      "text/plain": [
       "  Gender Married Dependents     Education Self_Employed  ApplicantIncome  \\\n",
       "0   Male     Yes          0      Graduate            No             1025   \n",
       "1   Male     Yes         3+      Graduate           Yes             5677   \n",
       "2   Male      No          0      Graduate           Yes             7085   \n",
       "3   Male     Yes          1      Graduate           Yes             2895   \n",
       "4   Male     Yes          2  Not Graduate            No             6125   \n",
       "\n",
       "   CoapplicantIncome  LoanAmount  Loan_Amount_Term  Credit_History  \\\n",
       "0             5500.0       216.0             360.0             NaN   \n",
       "1             1424.0       100.0             360.0             1.0   \n",
       "2                0.0        84.0             360.0             1.0   \n",
       "3                0.0        95.0             360.0             1.0   \n",
       "4             1625.0       187.0             480.0             1.0   \n",
       "\n",
       "  Property_Area  Loan_Status  \n",
       "0         Rural            1  \n",
       "1         Rural            1  \n",
       "2     Semiurban            1  \n",
       "3     Semiurban            1  \n",
       "4     Semiurban            0  "
      ]
     },
     "execution_count": 10,
     "metadata": {},
     "output_type": "execute_result"
    }
   ],
   "source": [
    "train_data.head()"
   ]
  },
  {
   "cell_type": "code",
   "execution_count": 11,
   "metadata": {},
   "outputs": [
    {
     "name": "stdout",
     "output_type": "stream",
     "text": [
      "<class 'pandas.core.frame.DataFrame'>\n",
      "RangeIndex: 491 entries, 0 to 490\n",
      "Data columns (total 12 columns):\n",
      " #   Column             Non-Null Count  Dtype  \n",
      "---  ------             --------------  -----  \n",
      " 0   Gender             481 non-null    object \n",
      " 1   Married            488 non-null    object \n",
      " 2   Dependents         478 non-null    object \n",
      " 3   Education          491 non-null    object \n",
      " 4   Self_Employed      465 non-null    object \n",
      " 5   ApplicantIncome    491 non-null    int64  \n",
      " 6   CoapplicantIncome  491 non-null    float64\n",
      " 7   LoanAmount         473 non-null    float64\n",
      " 8   Loan_Amount_Term   480 non-null    float64\n",
      " 9   Credit_History     452 non-null    float64\n",
      " 10  Property_Area      491 non-null    object \n",
      " 11  Loan_Status        491 non-null    int64  \n",
      "dtypes: float64(4), int64(2), object(6)\n",
      "memory usage: 46.2+ KB\n"
     ]
    }
   ],
   "source": [
    "train_data.info()"
   ]
  },
  {
   "cell_type": "code",
   "execution_count": 12,
   "metadata": {},
   "outputs": [
    {
     "name": "stdout",
     "output_type": "stream",
     "text": [
      "<class 'pandas.core.frame.DataFrame'>\n",
      "RangeIndex: 123 entries, 0 to 122\n",
      "Data columns (total 12 columns):\n",
      " #   Column             Non-Null Count  Dtype  \n",
      "---  ------             --------------  -----  \n",
      " 0   Gender             120 non-null    object \n",
      " 1   Married            123 non-null    object \n",
      " 2   Dependents         121 non-null    object \n",
      " 3   Education          123 non-null    object \n",
      " 4   Self_Employed      117 non-null    object \n",
      " 5   ApplicantIncome    123 non-null    int64  \n",
      " 6   CoapplicantIncome  123 non-null    float64\n",
      " 7   LoanAmount         119 non-null    float64\n",
      " 8   Loan_Amount_Term   120 non-null    float64\n",
      " 9   Credit_History     112 non-null    float64\n",
      " 10  Property_Area      123 non-null    object \n",
      " 11  Loan_Status        123 non-null    int64  \n",
      "dtypes: float64(4), int64(2), object(6)\n",
      "memory usage: 11.7+ KB\n"
     ]
    }
   ],
   "source": [
    "test_data.info()"
   ]
  },
  {
   "cell_type": "markdown",
   "metadata": {},
   "source": [
    "### Explore the training set to gain insights."
   ]
  },
  {
   "cell_type": "code",
   "execution_count": 13,
   "metadata": {},
   "outputs": [
    {
     "data": {
      "text/plain": [
       "0     280\n",
       "2      81\n",
       "1      75\n",
       "3+     42\n",
       "Name: Dependents, dtype: int64"
      ]
     },
     "execution_count": 13,
     "metadata": {},
     "output_type": "execute_result"
    }
   ],
   "source": [
    "train_data[\"Dependents\"].value_counts()"
   ]
  },
  {
   "cell_type": "code",
   "execution_count": 14,
   "metadata": {},
   "outputs": [
    {
     "data": {
      "text/plain": [
       "Graduate        384\n",
       "Not Graduate    107\n",
       "Name: Education, dtype: int64"
      ]
     },
     "execution_count": 14,
     "metadata": {},
     "output_type": "execute_result"
    }
   ],
   "source": [
    "train_data[\"Education\"].value_counts()"
   ]
  },
  {
   "cell_type": "code",
   "execution_count": 15,
   "metadata": {},
   "outputs": [
    {
     "data": {
      "text/plain": [
       "Semiurban    185\n",
       "Urban        164\n",
       "Rural        142\n",
       "Name: Property_Area, dtype: int64"
      ]
     },
     "execution_count": 15,
     "metadata": {},
     "output_type": "execute_result"
    }
   ],
   "source": [
    "train_data[\"Property_Area\"].value_counts()"
   ]
  },
  {
   "cell_type": "code",
   "execution_count": 16,
   "metadata": {},
   "outputs": [
    {
     "data": {
      "image/png": "[encoded data removed]",
      "text/plain": [
       "<Figure size 1440x864 with 6 Axes>"
      ]
     },
     "metadata": {
      "needs_background": "light"
     },
     "output_type": "display_data"
    }
   ],
   "source": [
    "loan = train_data.copy()\n",
    "\n",
    "loan.hist(figsize=(20,12));\n",
    "fig = plt.gcf()\n",
    "fig.savefig('hist.pdf', bbox_inches='tight');"
   ]
  },
  {
   "cell_type": "markdown",
   "metadata": {},
   "source": [
    "* `LoanAmount`: there are not that many points for `LoanAmount > 400`;\n",
    "* `ApplicantIncome` peaks around 0-10000, this was very likely the standard number of applicants income at the time of the data collection;"
   ]
  },
  {
   "cell_type": "markdown",
   "metadata": {},
   "source": [
    "#### The correlations"
   ]
  },
  {
   "cell_type": "code",
   "execution_count": 17,
   "metadata": {},
   "outputs": [
    {
     "data": {
      "image/png": "[encoded data removed]",
      "text/plain": [
       "<Figure size 720x360 with 2 Axes>"
      ]
     },
     "metadata": {
      "needs_background": "light"
     },
     "output_type": "display_data"
    }
   ],
   "source": [
    "import seaborn as sns\n",
    "\n",
    "plt.figure(figsize = (10,5))\n",
    "sns.heatmap(loan.corr(), annot = True)\n",
    "plt.show()"
   ]
  },
  {
   "cell_type": "markdown",
   "metadata": {},
   "source": [
    "#### Comment:\n",
    "* There is a positive correlation between `ApplicantIncome` and `LoanAmount`, which is 0.56, and `CoapplicantIncome` and `LoanAmount` which is 0.23.\n",
    "* All the other correlations are weak as the coefficients close to 0."
   ]
  },
  {
   "cell_type": "code",
   "execution_count": 18,
   "metadata": {},
   "outputs": [
    {
     "data": {
      "image/png": "[encoded data removed]",
      "text/plain": [
       "<Figure size 500.625x432 with 6 Axes>"
      ]
     },
     "metadata": {
      "needs_background": "light"
     },
     "output_type": "display_data"
    }
   ],
   "source": [
    "import seaborn as sns\n",
    "\n",
    "n_samples_to_plot = 5000\n",
    "\n",
    "columns = ['ApplicantIncome', 'LoanAmount']\n",
    "sns.pairplot(data=loan[:n_samples_to_plot], vars=columns,\n",
    "             hue=\"Loan_Status\", plot_kws={'alpha': 0.2},\n",
    "             height=3, diag_kind='hist', diag_kws={'bins': 30});"
   ]
  },
  {
   "cell_type": "markdown",
   "metadata": {},
   "source": [
    "### Select one machine learning model, train, optimise."
   ]
  },
  {
   "cell_type": "code",
   "execution_count": 19,
   "metadata": {},
   "outputs": [],
   "source": [
    "# separate the predictors and the labels\n",
    "X_train = train_data.drop(\"Loan_Status\", axis=1)\n",
    "y_train = train_data[\"Loan_Status\"].copy()  # save the labels"
   ]
  },
  {
   "cell_type": "code",
   "execution_count": 20,
   "metadata": {},
   "outputs": [
    {
     "data": {
      "text/html": [
       "<div>\n",
       "<style scoped>\n",
       "    .dataframe tbody tr th:only-of-type {\n",
       "        vertical-align: middle;\n",
       "    }\n",
       "\n",
       "    .dataframe tbody tr th {\n",
       "        vertical-align: top;\n",
       "    }\n",
       "\n",
       "    .dataframe thead th {\n",
       "        text-align: right;\n",
       "    }\n",
       "</style>\n",
       "<table border=\"1\" class=\"dataframe\">\n",
       "  <thead>\n",
       "    <tr style=\"text-align: right;\">\n",
       "      <th></th>\n",
       "      <th>Gender</th>\n",
       "      <th>Married</th>\n",
       "      <th>Dependents</th>\n",
       "      <th>Education</th>\n",
       "      <th>Self_Employed</th>\n",
       "      <th>ApplicantIncome</th>\n",
       "      <th>CoapplicantIncome</th>\n",
       "      <th>LoanAmount</th>\n",
       "      <th>Loan_Amount_Term</th>\n",
       "      <th>Credit_History</th>\n",
       "      <th>Property_Area</th>\n",
       "    </tr>\n",
       "  </thead>\n",
       "  <tbody>\n",
       "    <tr>\n",
       "      <th>0</th>\n",
       "      <td>Male</td>\n",
       "      <td>Yes</td>\n",
       "      <td>0</td>\n",
       "      <td>Graduate</td>\n",
       "      <td>No</td>\n",
       "      <td>1025</td>\n",
       "      <td>5500.0</td>\n",
       "      <td>216.0</td>\n",
       "      <td>360.0</td>\n",
       "      <td>NaN</td>\n",
       "      <td>Rural</td>\n",
       "    </tr>\n",
       "    <tr>\n",
       "      <th>1</th>\n",
       "      <td>Male</td>\n",
       "      <td>Yes</td>\n",
       "      <td>3+</td>\n",
       "      <td>Graduate</td>\n",
       "      <td>Yes</td>\n",
       "      <td>5677</td>\n",
       "      <td>1424.0</td>\n",
       "      <td>100.0</td>\n",
       "      <td>360.0</td>\n",
       "      <td>1.0</td>\n",
       "      <td>Rural</td>\n",
       "    </tr>\n",
       "    <tr>\n",
       "      <th>2</th>\n",
       "      <td>Male</td>\n",
       "      <td>No</td>\n",
       "      <td>0</td>\n",
       "      <td>Graduate</td>\n",
       "      <td>Yes</td>\n",
       "      <td>7085</td>\n",
       "      <td>0.0</td>\n",
       "      <td>84.0</td>\n",
       "      <td>360.0</td>\n",
       "      <td>1.0</td>\n",
       "      <td>Semiurban</td>\n",
       "    </tr>\n",
       "    <tr>\n",
       "      <th>3</th>\n",
       "      <td>Male</td>\n",
       "      <td>Yes</td>\n",
       "      <td>1</td>\n",
       "      <td>Graduate</td>\n",
       "      <td>Yes</td>\n",
       "      <td>2895</td>\n",
       "      <td>0.0</td>\n",
       "      <td>95.0</td>\n",
       "      <td>360.0</td>\n",
       "      <td>1.0</td>\n",
       "      <td>Semiurban</td>\n",
       "    </tr>\n",
       "    <tr>\n",
       "      <th>4</th>\n",
       "      <td>Male</td>\n",
       "      <td>Yes</td>\n",
       "      <td>2</td>\n",
       "      <td>Not Graduate</td>\n",
       "      <td>No</td>\n",
       "      <td>6125</td>\n",
       "      <td>1625.0</td>\n",
       "      <td>187.0</td>\n",
       "      <td>480.0</td>\n",
       "      <td>1.0</td>\n",
       "      <td>Semiurban</td>\n",
       "    </tr>\n",
       "  </tbody>\n",
       "</table>\n",
       "</div>"
      ],
      "text/plain": [
       "  Gender Married Dependents     Education Self_Employed  ApplicantIncome  \\\n",
       "0   Male     Yes          0      Graduate            No             1025   \n",
       "1   Male     Yes         3+      Graduate           Yes             5677   \n",
       "2   Male      No          0      Graduate           Yes             7085   \n",
       "3   Male     Yes          1      Graduate           Yes             2895   \n",
       "4   Male     Yes          2  Not Graduate            No             6125   \n",
       "\n",
       "   CoapplicantIncome  LoanAmount  Loan_Amount_Term  Credit_History  \\\n",
       "0             5500.0       216.0             360.0             NaN   \n",
       "1             1424.0       100.0             360.0             1.0   \n",
       "2                0.0        84.0             360.0             1.0   \n",
       "3                0.0        95.0             360.0             1.0   \n",
       "4             1625.0       187.0             480.0             1.0   \n",
       "\n",
       "  Property_Area  \n",
       "0         Rural  \n",
       "1         Rural  \n",
       "2     Semiurban  \n",
       "3     Semiurban  \n",
       "4     Semiurban  "
      ]
     },
     "execution_count": 20,
     "metadata": {},
     "output_type": "execute_result"
    }
   ],
   "source": [
    "X_train.head()"
   ]
  },
  {
   "cell_type": "code",
   "execution_count": 21,
   "metadata": {},
   "outputs": [
    {
     "data": {
      "text/plain": [
       "0    1\n",
       "1    1\n",
       "2    1\n",
       "3    1\n",
       "4    0\n",
       "Name: Loan_Status, dtype: int64"
      ]
     },
     "execution_count": 21,
     "metadata": {},
     "output_type": "execute_result"
    }
   ],
   "source": [
    "y_train.head()"
   ]
  },
  {
   "cell_type": "code",
   "execution_count": 22,
   "metadata": {},
   "outputs": [
    {
     "data": {
      "text/plain": [
       "Gender                object\n",
       "Married               object\n",
       "Dependents            object\n",
       "Education             object\n",
       "Self_Employed         object\n",
       "ApplicantIncome        int64\n",
       "CoapplicantIncome    float64\n",
       "LoanAmount           float64\n",
       "Loan_Amount_Term     float64\n",
       "Credit_History       float64\n",
       "Property_Area         object\n",
       "dtype: object"
      ]
     },
     "execution_count": 22,
     "metadata": {},
     "output_type": "execute_result"
    }
   ],
   "source": [
    "X_train.dtypes"
   ]
  },
  {
   "cell_type": "code",
   "execution_count": 23,
   "metadata": {},
   "outputs": [
    {
     "data": {
      "text/plain": [
       "(491, 11)"
      ]
     },
     "execution_count": 23,
     "metadata": {},
     "output_type": "execute_result"
    }
   ],
   "source": [
    "X_train.shape"
   ]
  },
  {
   "cell_type": "code",
   "execution_count": 24,
   "metadata": {},
   "outputs": [],
   "source": [
    "from sklearn.compose import make_column_selector as selector\n",
    "from sklearn.compose import ColumnTransformer\n",
    "\n",
    "# a function for getting all categorical_columns, apart from Dependents\n",
    "def get_categorical_columns(df):\n",
    "    categorical_columns_selector = selector(dtype_include=object)\n",
    "    categorical_columns = categorical_columns_selector(df.drop(\"Dependents\", axis=1))\n",
    "    return categorical_columns"
   ]
  },
  {
   "cell_type": "code",
   "execution_count": 25,
   "metadata": {},
   "outputs": [
    {
     "data": {
      "text/plain": [
       "['Gender', 'Married', 'Education', 'Self_Employed', 'Property_Area']"
      ]
     },
     "execution_count": 25,
     "metadata": {},
     "output_type": "execute_result"
    }
   ],
   "source": [
    "get_categorical_columns(X_train)"
   ]
  },
  {
   "cell_type": "code",
   "execution_count": 26,
   "metadata": {},
   "outputs": [],
   "source": [
    "# a function for getting all numerical_columns\n",
    "def get_numerical_columns(df):\n",
    "    numerical_columns_selector = selector(dtype_exclude=object)\n",
    "    numerical_columns = numerical_columns_selector(df)\n",
    "    return numerical_columns"
   ]
  },
  {
   "cell_type": "code",
   "execution_count": 27,
   "metadata": {},
   "outputs": [
    {
     "data": {
      "text/plain": [
       "['ApplicantIncome',\n",
       " 'CoapplicantIncome',\n",
       " 'LoanAmount',\n",
       " 'Loan_Amount_Term',\n",
       " 'Credit_History']"
      ]
     },
     "execution_count": 27,
     "metadata": {},
     "output_type": "execute_result"
    }
   ],
   "source": [
    "get_numerical_columns(X_train)"
   ]
  },
  {
   "cell_type": "code",
   "execution_count": 28,
   "metadata": {},
   "outputs": [],
   "source": [
    "from sklearn.preprocessing import OrdinalEncoder, OneHotEncoder, StandardScaler\n",
    "from sklearn.preprocessing import PolynomialFeatures\n",
    "\n",
    "# a function for Transformation the data\n",
    "def my_transformation(df):\n",
    "    df = df.copy()\n",
    "    \n",
    "    numerical_columns = get_numerical_columns(df)\n",
    "    nominal_columns = get_categorical_columns(df)\n",
    "    ordinal_columns = ['Dependents']\n",
    "    order = [['0', '1', '2', '3+']]\n",
    "    \n",
    "    numerical_pipeline = Pipeline([('imputer', SimpleImputer(strategy='median')),\n",
    "                               ('scaler', StandardScaler())])\n",
    "    nominal_pipeline = Pipeline([('imputer', SimpleImputer(strategy='most_frequent')),\n",
    "                             ('encoder', OneHotEncoder(handle_unknown='ignore'))])\n",
    "    ordinal_pipeline = Pipeline([('imputer', SimpleImputer(strategy='most_frequent')),\n",
    "                             ('encoder', OrdinalEncoder(categories=order,\n",
    "                                                        handle_unknown='use_encoded_value', \n",
    "                                                        unknown_value=-1,)),\n",
    "                             ('scaler', StandardScaler())])\n",
    "\n",
    "    preprocessor = ColumnTransformer([\n",
    "        ('numerical_transformer', numerical_pipeline, numerical_columns),\n",
    "        ('nominal_transformer', nominal_pipeline, nominal_columns),\n",
    "        ('ordinal_transformer', ordinal_pipeline, ordinal_columns),\n",
    "    ])\n",
    "    \n",
    "    # adding new features\n",
    "    preprocessor2 = Pipeline([('pre', preprocessor), \n",
    "                              ('poly', PolynomialFeatures(degree=2, include_bias=False))])\n",
    "    \n",
    "    \n",
    "    preprocessor2.fit(df)\n",
    "\n",
    "    return preprocessor2"
   ]
  },
  {
   "cell_type": "markdown",
   "metadata": {},
   "source": [
    "##### Prepare the data"
   ]
  },
  {
   "cell_type": "code",
   "execution_count": 29,
   "metadata": {},
   "outputs": [
    {
     "data": {
      "text/plain": [
       "(491, 170)"
      ]
     },
     "execution_count": 29,
     "metadata": {},
     "output_type": "execute_result"
    }
   ],
   "source": [
    "preprocessor = my_transformation(X_train)\n",
    "X_train_prepared = preprocessor.transform(X_train)\n",
    "X_train_prepared.shape"
   ]
  },
  {
   "cell_type": "code",
   "execution_count": 30,
   "metadata": {},
   "outputs": [],
   "source": [
    "from sklearn.model_selection import GridSearchCV\n",
    "\n",
    "# a function for tuning the model with hyper-parameter using grid search\n",
    "def tune_model(model, param_grid, X_train_prepared):\n",
    "    grid_search = GridSearchCV(model, param_grid, cv=5, scoring='roc_auc', return_train_score=True)\n",
    "    grid_search.fit(X_train_prepared, y_train);\n",
    "    print('grid_search.best_estimator_: ', grid_search.best_estimator_)\n",
    "    final_model = grid_search.best_estimator_\n",
    "    return final_model"
   ]
  },
  {
   "cell_type": "code",
   "execution_count": 31,
   "metadata": {},
   "outputs": [],
   "source": [
    "from sklearn.model_selection import StratifiedKFold, cross_val_predict, cross_val_score\n",
    "\n",
    "# a function for estimating the performance of the model with cross-validation\n",
    "def estimat_model(model, X_train_prepared, y_train, score):\n",
    "    cv = StratifiedKFold(n_splits=5)\n",
    "    scores = cross_val_score(model, X_train_prepared, y_train, cv=cv, scoring = score)\n",
    "    return scores.mean()"
   ]
  },
  {
   "cell_type": "markdown",
   "metadata": {},
   "source": [
    "#### Train a LogisticRegression model"
   ]
  },
  {
   "cell_type": "code",
   "execution_count": 32,
   "metadata": {},
   "outputs": [],
   "source": [
    "from sklearn.linear_model import LogisticRegression\n",
    "\n",
    "lr_model = LogisticRegression(random_state=42,max_iter=1000).fit(X_train_prepared, y_train);"
   ]
  },
  {
   "cell_type": "code",
   "execution_count": 33,
   "metadata": {},
   "outputs": [
    {
     "name": "stdout",
     "output_type": "stream",
     "text": [
      "grid_search.best_estimator_:  LogisticRegression(C=0.001, max_iter=1000, random_state=42)\n",
      "Wall time: 5.14 s\n"
     ]
    }
   ],
   "source": [
    "%%time\n",
    "param_grid = [\n",
    "    {'C': [0.001, 0.01, 0.1, 1, 10, 100, 1000]},\n",
    "]\n",
    "\n",
    "final_model_lr = tune_model(lr_model, param_grid, X_train_prepared)"
   ]
  },
  {
   "cell_type": "markdown",
   "metadata": {},
   "source": [
    "#### Train a SVM model"
   ]
  },
  {
   "cell_type": "code",
   "execution_count": 34,
   "metadata": {},
   "outputs": [],
   "source": [
    "from sklearn.svm import SVC\n",
    "\n",
    "svm = SVC(random_state=42,probability=True).fit(X_train_prepared, y_train)"
   ]
  },
  {
   "cell_type": "code",
   "execution_count": 35,
   "metadata": {},
   "outputs": [
    {
     "name": "stdout",
     "output_type": "stream",
     "text": [
      "grid_search.best_estimator_:  SVC(C=0.1, gamma=0.1, probability=True, random_state=42)\n",
      "Wall time: 30.9 s\n"
     ]
    }
   ],
   "source": [
    "%%time\n",
    "param_grid = [\n",
    "    {'C': [0.1, 1, 10, 100, 1000, 10000], \n",
    "     'gamma': [0.001, 0.01, 0.1, 1, 10, 'scale','auto']},\n",
    "]\n",
    "\n",
    "final_model_SVM = tune_model(svm, param_grid, X_train_prepared)"
   ]
  },
  {
   "cell_type": "markdown",
   "metadata": {},
   "source": [
    "#### Train a RandomForestClassifier model"
   ]
  },
  {
   "cell_type": "code",
   "execution_count": 36,
   "metadata": {},
   "outputs": [],
   "source": [
    "from sklearn.ensemble import RandomForestClassifier\n",
    "\n",
    "rf = RandomForestClassifier(random_state=42).fit(X_train_prepared, y_train)"
   ]
  },
  {
   "cell_type": "code",
   "execution_count": 37,
   "metadata": {},
   "outputs": [
    {
     "data": {
      "text/plain": [
       "RandomForestClassifier(max_depth=92, max_features=9, max_leaf_nodes=19,\n",
       "                       min_samples_leaf=3, n_estimators=75, random_state=42)"
      ]
     },
     "execution_count": 37,
     "metadata": {},
     "output_type": "execute_result"
    }
   ],
   "source": [
    "from sklearn.model_selection import RandomizedSearchCV\n",
    "from scipy.stats import randint\n",
    "\n",
    "param_distributions = {\n",
    "    'n_estimators': randint(50, 200),\n",
    "    'max_features': randint(3, 11),\n",
    "    'max_depth': randint(5, 100),\n",
    "    'max_leaf_nodes':randint(2, 20),\n",
    "    'min_samples_leaf': randint(2, 4),\n",
    "}\n",
    "\n",
    "final_model_rf = RandomizedSearchCV(rf, param_distributions, n_iter=10, cv=5,\n",
    "                                   scoring='roc_auc', return_train_score=True, random_state=0)\n",
    "\n",
    "final_model_rf.fit(X_train_prepared, y_train);\n",
    "final_model_rf = final_model_rf.best_estimator_\n",
    "final_model_rf"
   ]
  },
  {
   "cell_type": "markdown",
   "metadata": {},
   "source": [
    "#### Train a DecisionTreeClassifier model"
   ]
  },
  {
   "cell_type": "code",
   "execution_count": 38,
   "metadata": {},
   "outputs": [],
   "source": [
    "from sklearn.tree import DecisionTreeClassifier\n",
    "\n",
    "tree = DecisionTreeClassifier(max_depth=1, random_state=42).fit(X_train_prepared, y_train)"
   ]
  },
  {
   "cell_type": "code",
   "execution_count": 39,
   "metadata": {},
   "outputs": [
    {
     "name": "stdout",
     "output_type": "stream",
     "text": [
      "grid_search.best_estimator_:  DecisionTreeClassifier(max_depth=5, min_samples_leaf=10, random_state=42)\n",
      "Wall time: 6.33 s\n"
     ]
    }
   ],
   "source": [
    "%%time\n",
    "param_grid = [\n",
    "    {'max_depth': [1, 2, 3, 5, 10, 20],\n",
    "    'min_samples_leaf': [2, 3, 4, 5, 10, 20, 50, 100],\n",
    "    'criterion': [\"gini\", \"entropy\"]},\n",
    "]\n",
    "\n",
    "final_tree = tune_model(tree, param_grid, X_train_prepared)"
   ]
  },
  {
   "cell_type": "markdown",
   "metadata": {},
   "source": [
    "#### Train a KNeighborsClassifier model"
   ]
  },
  {
   "cell_type": "code",
   "execution_count": 40,
   "metadata": {},
   "outputs": [],
   "source": [
    "from sklearn.metrics import euclidean_distances\n",
    "from sklearn.neighbors import KNeighborsClassifier\n",
    "\n",
    "clf = KNeighborsClassifier(n_neighbors=3).fit(X_train_prepared, y_train)"
   ]
  },
  {
   "cell_type": "code",
   "execution_count": 41,
   "metadata": {},
   "outputs": [
    {
     "name": "stdout",
     "output_type": "stream",
     "text": [
      "grid_search.best_estimator_:  KNeighborsClassifier(n_neighbors=7)\n",
      "Wall time: 613 ms\n"
     ]
    }
   ],
   "source": [
    "%%time\n",
    "param_grid = [\n",
    "    {'n_neighbors': [1, 2, 3, 4, 5, 6, 7, 8, 9, 10]},\n",
    "]\n",
    "\n",
    "final_clf = tune_model(clf, param_grid, X_train_prepared)"
   ]
  },
  {
   "cell_type": "markdown",
   "metadata": {},
   "source": [
    "#### Train a GradientBoostingClassifier"
   ]
  },
  {
   "cell_type": "code",
   "execution_count": 42,
   "metadata": {},
   "outputs": [],
   "source": [
    "from sklearn.ensemble import GradientBoostingClassifier\n",
    "\n",
    "gbrt = GradientBoostingClassifier(random_state=42).fit(X_train_prepared, y_train)"
   ]
  },
  {
   "cell_type": "code",
   "execution_count": 43,
   "metadata": {},
   "outputs": [
    {
     "name": "stdout",
     "output_type": "stream",
     "text": [
      "grid_search.best_estimator_:  GradientBoostingClassifier(max_depth=5, n_estimators=200, random_state=42)\n",
      "Wall time: 1min 45s\n"
     ]
    }
   ],
   "source": [
    "%%time\n",
    "param_grid = [\n",
    "    {'n_estimators': [10, 50, 100, 150, 200],\n",
    "     'max_depth': [1, 2, 3, 5],\n",
    "    'learning_rate': [0.01, 0.1]},\n",
    "]\n",
    "\n",
    "final_gbrt = tune_model(gbrt, param_grid, X_train_prepared)"
   ]
  },
  {
   "cell_type": "markdown",
   "metadata": {},
   "source": [
    "#### Train a VotingClassifier"
   ]
  },
  {
   "cell_type": "code",
   "execution_count": 44,
   "metadata": {},
   "outputs": [
    {
     "name": "stdout",
     "output_type": "stream",
     "text": [
      "Wall time: 445 ms\n"
     ]
    }
   ],
   "source": [
    "%%time\n",
    "from sklearn.ensemble import VotingClassifier\n",
    "\n",
    "voting_clf = VotingClassifier(estimators=[('lr', final_model_lr), ('rf', final_model_rf), ('svc', final_model_SVM)],voting='soft')\n",
    "voting_clf = voting_clf.fit(X_train_prepared, y_train)"
   ]
  },
  {
   "cell_type": "markdown",
   "metadata": {},
   "source": [
    "##### The performance"
   ]
  },
  {
   "cell_type": "code",
   "execution_count": 45,
   "metadata": {},
   "outputs": [
    {
     "data": {
      "image/png": "[encoded data removed]",
      "text/plain": [
       "<Figure size 432x288 with 1 Axes>"
      ]
     },
     "metadata": {
      "needs_background": "light"
     },
     "output_type": "display_data"
    }
   ],
   "source": [
    "y_train.value_counts(normalize=True).plot.barh()\n",
    "plt.xlabel(\"Loan_Status frequency\")\n",
    "plt.title(\"Loan_Status frequency in the training set\");"
   ]
  },
  {
   "cell_type": "code",
   "execution_count": 46,
   "metadata": {},
   "outputs": [],
   "source": [
    "from sklearn.metrics import accuracy_score, precision_score, recall_score, balanced_accuracy_score, f1_score, average_precision_score, roc_auc_score\n",
    "from sklearn.metrics import confusion_matrix\n",
    "from sklearn.model_selection import cross_val_predict\n",
    "\n",
    "# a function for getting the performance of the model on the validation set\n",
    "def get_performance(model, X, y):\n",
    "    res = []\n",
    "    acc_mean = estimat_model(model, X, y, score = \"accuracy\")\n",
    "    bc_mean = estimat_model(model, X, y, score = \"balanced_accuracy\")\n",
    "    \n",
    "    y_train_pred = cross_val_predict(model, X, y, cv=3)\n",
    "    M = confusion_matrix(y, y_train_pred)\n",
    "    tn, fp, fn, tp = M.ravel()\n",
    "    spe = tn / (tn + fp) \n",
    "    precision = precision_score(y, y_train_pred)\n",
    "    recall = recall_score(y, y_train_pred)\n",
    "    f1 = f1_score(y, y_train_pred)\n",
    "    \n",
    "    ROC = estimat_model(model, X, y, score = \"roc_auc\")\n",
    "    \n",
    "    res.append([acc_mean, bc_mean, precision, recall, spe, f1, ROC])\n",
    "    return res"
   ]
  },
  {
   "cell_type": "code",
   "execution_count": 47,
   "metadata": {},
   "outputs": [],
   "source": [
    "from sklearn.metrics import accuracy_score, precision_score, recall_score, balanced_accuracy_score, f1_score, average_precision_score, roc_auc_score\n",
    "from sklearn.metrics import confusion_matrix\n",
    "\n",
    "# a function for getting all evaluation metrics\n",
    "def get_metric(model, X, y):\n",
    "    results = []\n",
    "    predicted = model.predict(X)\n",
    "    \n",
    "    M = confusion_matrix(y, predicted)\n",
    "    tn, fp, fn, tp = M.ravel()\n",
    "    \n",
    "    spe = tn / (tn + fp)             # specificity, selectivity or true negative rate (TNR)\n",
    "    ACC = accuracy_score(y, predicted)\n",
    "    BAC = balanced_accuracy_score(y, predicted)\n",
    "    \n",
    "    precision = precision_score(y, predicted)\n",
    "    recall = recall_score(y, predicted)\n",
    "    F1 = f1_score(y, predicted)\n",
    "   \n",
    "    y_score = model.predict_proba(X)[:, 1]\n",
    "    ROC = roc_auc_score(y, y_score)\n",
    "    PR = average_precision_score(y, y_score)\n",
    "    \n",
    "    results.append([ACC, BAC, precision, recall, spe, F1, ROC, PR])\n",
    "    return results"
   ]
  },
  {
   "cell_type": "code",
   "execution_count": 48,
   "metadata": {},
   "outputs": [],
   "source": [
    "# a function to display all scores\n",
    "\n",
    "def show_results(x, y, func, models):\n",
    "\n",
    "    if (models == classifiers):\n",
    "        names = ['SVM', 'LogisticRegression','RandomForestClassifier', 'DecisionTreeClassifier', 'KNeighborsClassifier', 'VotingClassifier','GradientBoostingClassifier']\n",
    "    else:\n",
    "        names = ['RandomForestClassifier']\n",
    "    metrics1 = ['Accuracy', 'Balance-Acc','Precision', 'Recall(Sensitivity)','Specificity','F1-score', 'AUC-ROC']\n",
    "    metrics2 = ['Accuracy', 'Balance-Acc','Precision', 'Recall(Sensitivity)','Specificity','F1-score', 'AUC-ROC', 'AUC-PR']\n",
    "    data_res = [func(c, x, y)[0] for c in models]\n",
    "    if(func == get_performance):\n",
    "        metrics = metrics1\n",
    "    else:\n",
    "        metrics = metrics2\n",
    "    results = pd.DataFrame(data=data_res, index=names, columns=metrics)\n",
    "    results = results.sort_values(by=['AUC-ROC'], ascending=False)\n",
    "    return results"
   ]
  },
  {
   "cell_type": "markdown",
   "metadata": {},
   "source": [
    "### Estimate the performance before tunning"
   ]
  },
  {
   "cell_type": "code",
   "execution_count": 49,
   "metadata": {},
   "outputs": [
    {
     "name": "stdout",
     "output_type": "stream",
     "text": [
      "Training set model performance before tuning: \n"
     ]
    },
    {
     "data": {
      "text/html": [
       "<div>\n",
       "<style scoped>\n",
       "    .dataframe tbody tr th:only-of-type {\n",
       "        vertical-align: middle;\n",
       "    }\n",
       "\n",
       "    .dataframe tbody tr th {\n",
       "        vertical-align: top;\n",
       "    }\n",
       "\n",
       "    .dataframe thead th {\n",
       "        text-align: right;\n",
       "    }\n",
       "</style>\n",
       "<table border=\"1\" class=\"dataframe\">\n",
       "  <thead>\n",
       "    <tr style=\"text-align: right;\">\n",
       "      <th></th>\n",
       "      <th>Accuracy</th>\n",
       "      <th>Balance-Acc</th>\n",
       "      <th>Precision</th>\n",
       "      <th>Recall(Sensitivity)</th>\n",
       "      <th>Specificity</th>\n",
       "      <th>F1-score</th>\n",
       "      <th>AUC-ROC</th>\n",
       "      <th>AUC-PR</th>\n",
       "    </tr>\n",
       "  </thead>\n",
       "  <tbody>\n",
       "    <tr>\n",
       "      <th>RandomForestClassifier</th>\n",
       "      <td>1.000000</td>\n",
       "      <td>1.000000</td>\n",
       "      <td>1.000000</td>\n",
       "      <td>1.000000</td>\n",
       "      <td>1.000000</td>\n",
       "      <td>1.000000</td>\n",
       "      <td>1.000000</td>\n",
       "      <td>1.000000</td>\n",
       "    </tr>\n",
       "    <tr>\n",
       "      <th>GradientBoostingClassifier</th>\n",
       "      <td>0.951120</td>\n",
       "      <td>0.922078</td>\n",
       "      <td>0.933518</td>\n",
       "      <td>1.000000</td>\n",
       "      <td>0.844156</td>\n",
       "      <td>0.965616</td>\n",
       "      <td>0.996840</td>\n",
       "      <td>0.998517</td>\n",
       "    </tr>\n",
       "    <tr>\n",
       "      <th>VotingClassifier</th>\n",
       "      <td>0.843177</td>\n",
       "      <td>0.757052</td>\n",
       "      <td>0.820197</td>\n",
       "      <td>0.988131</td>\n",
       "      <td>0.525974</td>\n",
       "      <td>0.896366</td>\n",
       "      <td>0.971964</td>\n",
       "      <td>0.986149</td>\n",
       "    </tr>\n",
       "    <tr>\n",
       "      <th>KNeighborsClassifier</th>\n",
       "      <td>0.843177</td>\n",
       "      <td>0.776446</td>\n",
       "      <td>0.838542</td>\n",
       "      <td>0.955490</td>\n",
       "      <td>0.597403</td>\n",
       "      <td>0.893204</td>\n",
       "      <td>0.918648</td>\n",
       "      <td>0.943341</td>\n",
       "    </tr>\n",
       "    <tr>\n",
       "      <th>SVM</th>\n",
       "      <td>0.814664</td>\n",
       "      <td>0.715124</td>\n",
       "      <td>0.795673</td>\n",
       "      <td>0.982196</td>\n",
       "      <td>0.448052</td>\n",
       "      <td>0.879150</td>\n",
       "      <td>0.878261</td>\n",
       "      <td>0.922227</td>\n",
       "    </tr>\n",
       "    <tr>\n",
       "      <th>LogisticRegression</th>\n",
       "      <td>0.839104</td>\n",
       "      <td>0.757611</td>\n",
       "      <td>0.822500</td>\n",
       "      <td>0.976261</td>\n",
       "      <td>0.538961</td>\n",
       "      <td>0.892809</td>\n",
       "      <td>0.870226</td>\n",
       "      <td>0.928465</td>\n",
       "    </tr>\n",
       "    <tr>\n",
       "      <th>DecisionTreeClassifier</th>\n",
       "      <td>0.808554</td>\n",
       "      <td>0.705384</td>\n",
       "      <td>0.789976</td>\n",
       "      <td>0.982196</td>\n",
       "      <td>0.428571</td>\n",
       "      <td>0.875661</td>\n",
       "      <td>0.705384</td>\n",
       "      <td>0.788131</td>\n",
       "    </tr>\n",
       "  </tbody>\n",
       "</table>\n",
       "</div>"
      ],
      "text/plain": [
       "                            Accuracy  Balance-Acc  Precision  \\\n",
       "RandomForestClassifier      1.000000     1.000000   1.000000   \n",
       "GradientBoostingClassifier  0.951120     0.922078   0.933518   \n",
       "VotingClassifier            0.843177     0.757052   0.820197   \n",
       "KNeighborsClassifier        0.843177     0.776446   0.838542   \n",
       "SVM                         0.814664     0.715124   0.795673   \n",
       "LogisticRegression          0.839104     0.757611   0.822500   \n",
       "DecisionTreeClassifier      0.808554     0.705384   0.789976   \n",
       "\n",
       "                            Recall(Sensitivity)  Specificity  F1-score  \\\n",
       "RandomForestClassifier                 1.000000     1.000000  1.000000   \n",
       "GradientBoostingClassifier             1.000000     0.844156  0.965616   \n",
       "VotingClassifier                       0.988131     0.525974  0.896366   \n",
       "KNeighborsClassifier                   0.955490     0.597403  0.893204   \n",
       "SVM                                    0.982196     0.448052  0.879150   \n",
       "LogisticRegression                     0.976261     0.538961  0.892809   \n",
       "DecisionTreeClassifier                 0.982196     0.428571  0.875661   \n",
       "\n",
       "                             AUC-ROC    AUC-PR  \n",
       "RandomForestClassifier      1.000000  1.000000  \n",
       "GradientBoostingClassifier  0.996840  0.998517  \n",
       "VotingClassifier            0.971964  0.986149  \n",
       "KNeighborsClassifier        0.918648  0.943341  \n",
       "SVM                         0.878261  0.922227  \n",
       "LogisticRegression          0.870226  0.928465  \n",
       "DecisionTreeClassifier      0.705384  0.788131  "
      ]
     },
     "execution_count": 49,
     "metadata": {},
     "output_type": "execute_result"
    }
   ],
   "source": [
    "classifiers = [svm, lr_model, rf, tree, clf, voting_clf, gbrt]\n",
    "print('Training set model performance before tuning: ')\n",
    "a = show_results(X_train_prepared, y_train, get_metric, classifiers)\n",
    "a"
   ]
  },
  {
   "cell_type": "code",
   "execution_count": 50,
   "metadata": {},
   "outputs": [
    {
     "name": "stdout",
     "output_type": "stream",
     "text": [
      "Validation set model performance before tuning: \n"
     ]
    },
    {
     "data": {
      "text/html": [
       "<div>\n",
       "<style scoped>\n",
       "    .dataframe tbody tr th:only-of-type {\n",
       "        vertical-align: middle;\n",
       "    }\n",
       "\n",
       "    .dataframe tbody tr th {\n",
       "        vertical-align: top;\n",
       "    }\n",
       "\n",
       "    .dataframe thead th {\n",
       "        text-align: right;\n",
       "    }\n",
       "</style>\n",
       "<table border=\"1\" class=\"dataframe\">\n",
       "  <thead>\n",
       "    <tr style=\"text-align: right;\">\n",
       "      <th></th>\n",
       "      <th>Accuracy</th>\n",
       "      <th>Balance-Acc</th>\n",
       "      <th>Precision</th>\n",
       "      <th>Recall(Sensitivity)</th>\n",
       "      <th>Specificity</th>\n",
       "      <th>F1-score</th>\n",
       "      <th>AUC-ROC</th>\n",
       "    </tr>\n",
       "  </thead>\n",
       "  <tbody>\n",
       "    <tr>\n",
       "      <th>VotingClassifier</th>\n",
       "      <td>0.808617</td>\n",
       "      <td>0.705412</td>\n",
       "      <td>0.788462</td>\n",
       "      <td>0.973294</td>\n",
       "      <td>0.428571</td>\n",
       "      <td>0.871182</td>\n",
       "      <td>0.771959</td>\n",
       "    </tr>\n",
       "    <tr>\n",
       "      <th>RandomForestClassifier</th>\n",
       "      <td>0.771965</td>\n",
       "      <td>0.685914</td>\n",
       "      <td>0.792839</td>\n",
       "      <td>0.919881</td>\n",
       "      <td>0.474026</td>\n",
       "      <td>0.851648</td>\n",
       "      <td>0.771892</td>\n",
       "    </tr>\n",
       "    <tr>\n",
       "      <th>SVM</th>\n",
       "      <td>0.804556</td>\n",
       "      <td>0.698853</td>\n",
       "      <td>0.785203</td>\n",
       "      <td>0.976261</td>\n",
       "      <td>0.415584</td>\n",
       "      <td>0.870370</td>\n",
       "      <td>0.729493</td>\n",
       "    </tr>\n",
       "    <tr>\n",
       "      <th>DecisionTreeClassifier</th>\n",
       "      <td>0.808617</td>\n",
       "      <td>0.705304</td>\n",
       "      <td>0.789976</td>\n",
       "      <td>0.982196</td>\n",
       "      <td>0.428571</td>\n",
       "      <td>0.875661</td>\n",
       "      <td>0.705304</td>\n",
       "    </tr>\n",
       "    <tr>\n",
       "      <th>GradientBoostingClassifier</th>\n",
       "      <td>0.757782</td>\n",
       "      <td>0.673757</td>\n",
       "      <td>0.782383</td>\n",
       "      <td>0.896142</td>\n",
       "      <td>0.454545</td>\n",
       "      <td>0.835408</td>\n",
       "      <td>0.704025</td>\n",
       "    </tr>\n",
       "    <tr>\n",
       "      <th>KNeighborsClassifier</th>\n",
       "      <td>0.767821</td>\n",
       "      <td>0.687913</td>\n",
       "      <td>0.778061</td>\n",
       "      <td>0.905045</td>\n",
       "      <td>0.435065</td>\n",
       "      <td>0.836763</td>\n",
       "      <td>0.683070</td>\n",
       "    </tr>\n",
       "    <tr>\n",
       "      <th>LogisticRegression</th>\n",
       "      <td>0.749557</td>\n",
       "      <td>0.663995</td>\n",
       "      <td>0.780362</td>\n",
       "      <td>0.896142</td>\n",
       "      <td>0.448052</td>\n",
       "      <td>0.834254</td>\n",
       "      <td>0.667854</td>\n",
       "    </tr>\n",
       "  </tbody>\n",
       "</table>\n",
       "</div>"
      ],
      "text/plain": [
       "                            Accuracy  Balance-Acc  Precision  \\\n",
       "VotingClassifier            0.808617     0.705412   0.788462   \n",
       "RandomForestClassifier      0.771965     0.685914   0.792839   \n",
       "SVM                         0.804556     0.698853   0.785203   \n",
       "DecisionTreeClassifier      0.808617     0.705304   0.789976   \n",
       "GradientBoostingClassifier  0.757782     0.673757   0.782383   \n",
       "KNeighborsClassifier        0.767821     0.687913   0.778061   \n",
       "LogisticRegression          0.749557     0.663995   0.780362   \n",
       "\n",
       "                            Recall(Sensitivity)  Specificity  F1-score  \\\n",
       "VotingClassifier                       0.973294     0.428571  0.871182   \n",
       "RandomForestClassifier                 0.919881     0.474026  0.851648   \n",
       "SVM                                    0.976261     0.415584  0.870370   \n",
       "DecisionTreeClassifier                 0.982196     0.428571  0.875661   \n",
       "GradientBoostingClassifier             0.896142     0.454545  0.835408   \n",
       "KNeighborsClassifier                   0.905045     0.435065  0.836763   \n",
       "LogisticRegression                     0.896142     0.448052  0.834254   \n",
       "\n",
       "                             AUC-ROC  \n",
       "VotingClassifier            0.771959  \n",
       "RandomForestClassifier      0.771892  \n",
       "SVM                         0.729493  \n",
       "DecisionTreeClassifier      0.705304  \n",
       "GradientBoostingClassifier  0.704025  \n",
       "KNeighborsClassifier        0.683070  \n",
       "LogisticRegression          0.667854  "
      ]
     },
     "execution_count": 50,
     "metadata": {},
     "output_type": "execute_result"
    }
   ],
   "source": [
    "classifiers = [svm, lr_model, rf, tree, clf, voting_clf, gbrt]\n",
    "print('Validation set model performance before tuning: ')\n",
    "b = show_results(X_train_prepared, y_train, get_performance, classifiers)\n",
    "b"
   ]
  },
  {
   "cell_type": "code",
   "execution_count": 51,
   "metadata": {},
   "outputs": [
    {
     "data": {
      "text/plain": [
       "DecisionTreeClassifier        0.000079\n",
       "SVM                           0.148768\n",
       "VotingClassifier              0.200006\n",
       "LogisticRegression            0.202373\n",
       "RandomForestClassifier        0.228108\n",
       "KNeighborsClassifier          0.235578\n",
       "GradientBoostingClassifier    0.292815\n",
       "Name: AUC-ROC, dtype: float64"
      ]
     },
     "execution_count": 51,
     "metadata": {},
     "output_type": "execute_result"
    }
   ],
   "source": [
    "variance_error = a['AUC-ROC']-b['AUC-ROC']\n",
    "variance_error.sort_values()"
   ]
  },
  {
   "cell_type": "markdown",
   "metadata": {},
   "source": [
    "### Comment:\n",
    "#### why RandomForestClassifier?\n",
    "- From the above model performance metrics, we can see that for `RandomForestClassifier` has one of the highest AUC-ROC score in the cross-validation, which is 0.77.\n",
    "- Also in the training set, the AUC-ROC score is around 1 which means is doing pretty well. \n",
    "- Therefore, we should choose RandomForestClassifier."
   ]
  },
  {
   "cell_type": "markdown",
   "metadata": {},
   "source": [
    "### Estimate the performance after tunning."
   ]
  },
  {
   "cell_type": "code",
   "execution_count": 52,
   "metadata": {},
   "outputs": [
    {
     "name": "stdout",
     "output_type": "stream",
     "text": [
      "Training set model performance after tuning: \n"
     ]
    },
    {
     "data": {
      "text/html": [
       "<div>\n",
       "<style scoped>\n",
       "    .dataframe tbody tr th:only-of-type {\n",
       "        vertical-align: middle;\n",
       "    }\n",
       "\n",
       "    .dataframe tbody tr th {\n",
       "        vertical-align: top;\n",
       "    }\n",
       "\n",
       "    .dataframe thead th {\n",
       "        text-align: right;\n",
       "    }\n",
       "</style>\n",
       "<table border=\"1\" class=\"dataframe\">\n",
       "  <thead>\n",
       "    <tr style=\"text-align: right;\">\n",
       "      <th></th>\n",
       "      <th>Accuracy</th>\n",
       "      <th>Balance-Acc</th>\n",
       "      <th>Precision</th>\n",
       "      <th>Recall(Sensitivity)</th>\n",
       "      <th>Specificity</th>\n",
       "      <th>F1-score</th>\n",
       "      <th>AUC-ROC</th>\n",
       "      <th>AUC-PR</th>\n",
       "    </tr>\n",
       "  </thead>\n",
       "  <tbody>\n",
       "    <tr>\n",
       "      <th>GradientBoostingClassifier</th>\n",
       "      <td>1.000000</td>\n",
       "      <td>1.000000</td>\n",
       "      <td>1.000000</td>\n",
       "      <td>1.000000</td>\n",
       "      <td>1.000000</td>\n",
       "      <td>1.000000</td>\n",
       "      <td>1.000000</td>\n",
       "      <td>1.000000</td>\n",
       "    </tr>\n",
       "    <tr>\n",
       "      <th>VotingClassifier</th>\n",
       "      <td>0.843177</td>\n",
       "      <td>0.757052</td>\n",
       "      <td>0.820197</td>\n",
       "      <td>0.988131</td>\n",
       "      <td>0.525974</td>\n",
       "      <td>0.896366</td>\n",
       "      <td>0.971964</td>\n",
       "      <td>0.986149</td>\n",
       "    </tr>\n",
       "    <tr>\n",
       "      <th>SVM</th>\n",
       "      <td>0.686354</td>\n",
       "      <td>0.500000</td>\n",
       "      <td>0.686354</td>\n",
       "      <td>1.000000</td>\n",
       "      <td>0.000000</td>\n",
       "      <td>0.814010</td>\n",
       "      <td>0.970827</td>\n",
       "      <td>0.978539</td>\n",
       "    </tr>\n",
       "    <tr>\n",
       "      <th>RandomForestClassifier</th>\n",
       "      <td>0.832994</td>\n",
       "      <td>0.744345</td>\n",
       "      <td>0.813268</td>\n",
       "      <td>0.982196</td>\n",
       "      <td>0.506494</td>\n",
       "      <td>0.889785</td>\n",
       "      <td>0.963197</td>\n",
       "      <td>0.982356</td>\n",
       "    </tr>\n",
       "    <tr>\n",
       "      <th>DecisionTreeClassifier</th>\n",
       "      <td>0.835031</td>\n",
       "      <td>0.763459</td>\n",
       "      <td>0.829897</td>\n",
       "      <td>0.955490</td>\n",
       "      <td>0.571429</td>\n",
       "      <td>0.888276</td>\n",
       "      <td>0.852769</td>\n",
       "      <td>0.897099</td>\n",
       "    </tr>\n",
       "    <tr>\n",
       "      <th>KNeighborsClassifier</th>\n",
       "      <td>0.814664</td>\n",
       "      <td>0.720413</td>\n",
       "      <td>0.800000</td>\n",
       "      <td>0.973294</td>\n",
       "      <td>0.467532</td>\n",
       "      <td>0.878179</td>\n",
       "      <td>0.852306</td>\n",
       "      <td>0.903839</td>\n",
       "    </tr>\n",
       "    <tr>\n",
       "      <th>LogisticRegression</th>\n",
       "      <td>0.812627</td>\n",
       "      <td>0.711877</td>\n",
       "      <td>0.793765</td>\n",
       "      <td>0.982196</td>\n",
       "      <td>0.441558</td>\n",
       "      <td>0.877984</td>\n",
       "      <td>0.810783</td>\n",
       "      <td>0.882179</td>\n",
       "    </tr>\n",
       "  </tbody>\n",
       "</table>\n",
       "</div>"
      ],
      "text/plain": [
       "                            Accuracy  Balance-Acc  Precision  \\\n",
       "GradientBoostingClassifier  1.000000     1.000000   1.000000   \n",
       "VotingClassifier            0.843177     0.757052   0.820197   \n",
       "SVM                         0.686354     0.500000   0.686354   \n",
       "RandomForestClassifier      0.832994     0.744345   0.813268   \n",
       "DecisionTreeClassifier      0.835031     0.763459   0.829897   \n",
       "KNeighborsClassifier        0.814664     0.720413   0.800000   \n",
       "LogisticRegression          0.812627     0.711877   0.793765   \n",
       "\n",
       "                            Recall(Sensitivity)  Specificity  F1-score  \\\n",
       "GradientBoostingClassifier             1.000000     1.000000  1.000000   \n",
       "VotingClassifier                       0.988131     0.525974  0.896366   \n",
       "SVM                                    1.000000     0.000000  0.814010   \n",
       "RandomForestClassifier                 0.982196     0.506494  0.889785   \n",
       "DecisionTreeClassifier                 0.955490     0.571429  0.888276   \n",
       "KNeighborsClassifier                   0.973294     0.467532  0.878179   \n",
       "LogisticRegression                     0.982196     0.441558  0.877984   \n",
       "\n",
       "                             AUC-ROC    AUC-PR  \n",
       "GradientBoostingClassifier  1.000000  1.000000  \n",
       "VotingClassifier            0.971964  0.986149  \n",
       "SVM                         0.970827  0.978539  \n",
       "RandomForestClassifier      0.963197  0.982356  \n",
       "DecisionTreeClassifier      0.852769  0.897099  \n",
       "KNeighborsClassifier        0.852306  0.903839  \n",
       "LogisticRegression          0.810783  0.882179  "
      ]
     },
     "execution_count": 52,
     "metadata": {},
     "output_type": "execute_result"
    }
   ],
   "source": [
    "classifiers = [final_model_SVM, final_model_lr, final_model_rf, final_tree, final_clf, voting_clf, final_gbrt]\n",
    "print('Training set model performance after tuning: ')\n",
    "c = show_results(X_train_prepared, y_train, get_metric, classifiers)\n",
    "c"
   ]
  },
  {
   "cell_type": "code",
   "execution_count": 53,
   "metadata": {},
   "outputs": [
    {
     "name": "stdout",
     "output_type": "stream",
     "text": [
      "Validation set model performance after tuning: \n"
     ]
    },
    {
     "data": {
      "text/html": [
       "<div>\n",
       "<style scoped>\n",
       "    .dataframe tbody tr th:only-of-type {\n",
       "        vertical-align: middle;\n",
       "    }\n",
       "\n",
       "    .dataframe tbody tr th {\n",
       "        vertical-align: top;\n",
       "    }\n",
       "\n",
       "    .dataframe thead th {\n",
       "        text-align: right;\n",
       "    }\n",
       "</style>\n",
       "<table border=\"1\" class=\"dataframe\">\n",
       "  <thead>\n",
       "    <tr style=\"text-align: right;\">\n",
       "      <th></th>\n",
       "      <th>Accuracy</th>\n",
       "      <th>Balance-Acc</th>\n",
       "      <th>Precision</th>\n",
       "      <th>Recall(Sensitivity)</th>\n",
       "      <th>Specificity</th>\n",
       "      <th>F1-score</th>\n",
       "      <th>AUC-ROC</th>\n",
       "    </tr>\n",
       "  </thead>\n",
       "  <tbody>\n",
       "    <tr>\n",
       "      <th>RandomForestClassifier</th>\n",
       "      <td>0.800474</td>\n",
       "      <td>0.703038</td>\n",
       "      <td>0.792271</td>\n",
       "      <td>0.973294</td>\n",
       "      <td>0.441558</td>\n",
       "      <td>0.873502</td>\n",
       "      <td>0.778027</td>\n",
       "    </tr>\n",
       "    <tr>\n",
       "      <th>VotingClassifier</th>\n",
       "      <td>0.808617</td>\n",
       "      <td>0.705412</td>\n",
       "      <td>0.788462</td>\n",
       "      <td>0.973294</td>\n",
       "      <td>0.428571</td>\n",
       "      <td>0.871182</td>\n",
       "      <td>0.771959</td>\n",
       "    </tr>\n",
       "    <tr>\n",
       "      <th>SVM</th>\n",
       "      <td>0.686353</td>\n",
       "      <td>0.500000</td>\n",
       "      <td>0.686354</td>\n",
       "      <td>1.000000</td>\n",
       "      <td>0.000000</td>\n",
       "      <td>0.814010</td>\n",
       "      <td>0.743836</td>\n",
       "    </tr>\n",
       "    <tr>\n",
       "      <th>LogisticRegression</th>\n",
       "      <td>0.808617</td>\n",
       "      <td>0.705412</td>\n",
       "      <td>0.780660</td>\n",
       "      <td>0.982196</td>\n",
       "      <td>0.396104</td>\n",
       "      <td>0.869908</td>\n",
       "      <td>0.740354</td>\n",
       "    </tr>\n",
       "    <tr>\n",
       "      <th>DecisionTreeClassifier</th>\n",
       "      <td>0.749619</td>\n",
       "      <td>0.680093</td>\n",
       "      <td>0.789894</td>\n",
       "      <td>0.881306</td>\n",
       "      <td>0.487013</td>\n",
       "      <td>0.833100</td>\n",
       "      <td>0.735752</td>\n",
       "    </tr>\n",
       "    <tr>\n",
       "      <th>KNeighborsClassifier</th>\n",
       "      <td>0.798433</td>\n",
       "      <td>0.696130</td>\n",
       "      <td>0.786765</td>\n",
       "      <td>0.952522</td>\n",
       "      <td>0.435065</td>\n",
       "      <td>0.861745</td>\n",
       "      <td>0.721153</td>\n",
       "    </tr>\n",
       "    <tr>\n",
       "      <th>GradientBoostingClassifier</th>\n",
       "      <td>0.739373</td>\n",
       "      <td>0.665653</td>\n",
       "      <td>0.782258</td>\n",
       "      <td>0.863501</td>\n",
       "      <td>0.474026</td>\n",
       "      <td>0.820874</td>\n",
       "      <td>0.719183</td>\n",
       "    </tr>\n",
       "  </tbody>\n",
       "</table>\n",
       "</div>"
      ],
      "text/plain": [
       "                            Accuracy  Balance-Acc  Precision  \\\n",
       "RandomForestClassifier      0.800474     0.703038   0.792271   \n",
       "VotingClassifier            0.808617     0.705412   0.788462   \n",
       "SVM                         0.686353     0.500000   0.686354   \n",
       "LogisticRegression          0.808617     0.705412   0.780660   \n",
       "DecisionTreeClassifier      0.749619     0.680093   0.789894   \n",
       "KNeighborsClassifier        0.798433     0.696130   0.786765   \n",
       "GradientBoostingClassifier  0.739373     0.665653   0.782258   \n",
       "\n",
       "                            Recall(Sensitivity)  Specificity  F1-score  \\\n",
       "RandomForestClassifier                 0.973294     0.441558  0.873502   \n",
       "VotingClassifier                       0.973294     0.428571  0.871182   \n",
       "SVM                                    1.000000     0.000000  0.814010   \n",
       "LogisticRegression                     0.982196     0.396104  0.869908   \n",
       "DecisionTreeClassifier                 0.881306     0.487013  0.833100   \n",
       "KNeighborsClassifier                   0.952522     0.435065  0.861745   \n",
       "GradientBoostingClassifier             0.863501     0.474026  0.820874   \n",
       "\n",
       "                             AUC-ROC  \n",
       "RandomForestClassifier      0.778027  \n",
       "VotingClassifier            0.771959  \n",
       "SVM                         0.743836  \n",
       "LogisticRegression          0.740354  \n",
       "DecisionTreeClassifier      0.735752  \n",
       "KNeighborsClassifier        0.721153  \n",
       "GradientBoostingClassifier  0.719183  "
      ]
     },
     "execution_count": 53,
     "metadata": {},
     "output_type": "execute_result"
    }
   ],
   "source": [
    "classifiers = [final_model_SVM, final_model_lr, final_model_rf, final_tree, final_clf, voting_clf, final_gbrt]\n",
    "print('Validation set model performance after tuning: ')\n",
    "d = show_results(X_train_prepared, y_train, get_performance, classifiers)\n",
    "d"
   ]
  },
  {
   "cell_type": "code",
   "execution_count": 54,
   "metadata": {},
   "outputs": [
    {
     "data": {
      "text/plain": [
       "LogisticRegression            0.070428\n",
       "DecisionTreeClassifier        0.117016\n",
       "KNeighborsClassifier          0.131154\n",
       "RandomForestClassifier        0.185170\n",
       "VotingClassifier              0.200006\n",
       "SVM                           0.226991\n",
       "GradientBoostingClassifier    0.280817\n",
       "Name: AUC-ROC, dtype: float64"
      ]
     },
     "execution_count": 54,
     "metadata": {},
     "output_type": "execute_result"
    }
   ],
   "source": [
    "variance_error = c['AUC-ROC']-d['AUC-ROC']\n",
    "variance_error.sort_values()"
   ]
  },
  {
   "cell_type": "markdown",
   "metadata": {},
   "source": [
    "### Comment:\n",
    "#### why RandomForestClassifier?\n",
    "- From the above model performance metrics, we can see that for `RandomForestClassifier` has the highest AUC-ROC score in the cross-validation after tunning, which is 0.78.\n",
    "- Also in the training set, the AUC-ROC score of RandomForestClassifier is around 0.96 which is pretty good. Even though it does not have the lowest variance_error. \n",
    "- Overall, RandomForestClassifier is a better choice out of all the others."
   ]
  },
  {
   "cell_type": "markdown",
   "metadata": {},
   "source": [
    "### Test the final model on the test set.\n"
   ]
  },
  {
   "cell_type": "code",
   "execution_count": 55,
   "metadata": {},
   "outputs": [],
   "source": [
    "# separate the test set and the labels\n",
    "X_test = test_data.drop(\"Loan_Status\", axis=1)\n",
    "y_test = test_data[\"Loan_Status\"].copy()  # save the labels"
   ]
  },
  {
   "cell_type": "code",
   "execution_count": 56,
   "metadata": {},
   "outputs": [
    {
     "data": {
      "text/plain": [
       "(123, 170)"
      ]
     },
     "execution_count": 56,
     "metadata": {},
     "output_type": "execute_result"
    }
   ],
   "source": [
    "X_test_prepared = preprocessor.transform(X_test) \n",
    "X_test_prepared.shape"
   ]
  },
  {
   "cell_type": "markdown",
   "metadata": {},
   "source": [
    "##### The ROC Curve"
   ]
  },
  {
   "cell_type": "code",
   "execution_count": 57,
   "metadata": {},
   "outputs": [],
   "source": [
    "from sklearn.dummy import DummyClassifier\n",
    "dummy_classifier = DummyClassifier(strategy=\"most_frequent\")\n",
    "dummy_classifier.fit(X_train_prepared, y_train);"
   ]
  },
  {
   "cell_type": "code",
   "execution_count": 58,
   "metadata": {},
   "outputs": [],
   "source": [
    "from sklearn.metrics import plot_roc_curve\n",
    "\n",
    "def plot_roc(model, x, y):\n",
    "    f = plot_roc_curve(model, x, y, ax=plt.figure(figsize=(5,5)).gca())\n",
    "    f = plot_roc_curve(dummy_classifier, x, y, color=\"tab:orange\", linestyle=\"--\", ax=f.ax_)\n",
    "    f.ax_.set_title(\"ROC AUC curve\");\n",
    "    f.figure_.savefig('roc_curve.pdf', bbox_inches='tight')"
   ]
  },
  {
   "cell_type": "code",
   "execution_count": 59,
   "metadata": {},
   "outputs": [
    {
     "data": {
      "image/png": "[encoded data removed]",
      "text/plain": [
       "<Figure size 360x360 with 1 Axes>"
      ]
     },
     "metadata": {
      "needs_background": "light"
     },
     "output_type": "display_data"
    }
   ],
   "source": [
    "plot_roc(final_model_rf, X_test_prepared, y_test)"
   ]
  },
  {
   "cell_type": "code",
   "execution_count": 60,
   "metadata": {},
   "outputs": [
    {
     "data": {
      "image/png": "[encoded data removed]",
      "text/plain": [
       "<Figure size 360x360 with 1 Axes>"
      ]
     },
     "metadata": {
      "needs_background": "light"
     },
     "output_type": "display_data"
    }
   ],
   "source": [
    "from sklearn.metrics import plot_precision_recall_curve\n",
    "\n",
    "f = plot_precision_recall_curve(final_model_rf, X_test_prepared, y_test,\n",
    "                                ax=plt.figure(figsize=(5,5)).gca())\n",
    "f.ax_.set_title(\"Precision-recall curve\");\n",
    "f.figure_.savefig('pr_curve.pdf', bbox_inches='tight')"
   ]
  },
  {
   "cell_type": "markdown",
   "metadata": {},
   "source": [
    "##### Evaluation metrics"
   ]
  },
  {
   "cell_type": "code",
   "execution_count": 61,
   "metadata": {},
   "outputs": [
    {
     "data": {
      "text/plain": [
       "(123, 170)"
      ]
     },
     "execution_count": 61,
     "metadata": {},
     "output_type": "execute_result"
    }
   ],
   "source": [
    "X_test_prepared.shape"
   ]
  },
  {
   "cell_type": "code",
   "execution_count": 62,
   "metadata": {},
   "outputs": [
    {
     "name": "stdout",
     "output_type": "stream",
     "text": [
      "Test set model performance: \n"
     ]
    },
    {
     "data": {
      "text/html": [
       "<div>\n",
       "<style scoped>\n",
       "    .dataframe tbody tr th:only-of-type {\n",
       "        vertical-align: middle;\n",
       "    }\n",
       "\n",
       "    .dataframe tbody tr th {\n",
       "        vertical-align: top;\n",
       "    }\n",
       "\n",
       "    .dataframe thead th {\n",
       "        text-align: right;\n",
       "    }\n",
       "</style>\n",
       "<table border=\"1\" class=\"dataframe\">\n",
       "  <thead>\n",
       "    <tr style=\"text-align: right;\">\n",
       "      <th></th>\n",
       "      <th>Accuracy</th>\n",
       "      <th>Balance-Acc</th>\n",
       "      <th>Precision</th>\n",
       "      <th>Recall(Sensitivity)</th>\n",
       "      <th>Specificity</th>\n",
       "      <th>F1-score</th>\n",
       "      <th>AUC-ROC</th>\n",
       "      <th>AUC-PR</th>\n",
       "    </tr>\n",
       "  </thead>\n",
       "  <tbody>\n",
       "    <tr>\n",
       "      <th>RandomForestClassifier</th>\n",
       "      <td>0.813008</td>\n",
       "      <td>0.704644</td>\n",
       "      <td>0.792453</td>\n",
       "      <td>0.988235</td>\n",
       "      <td>0.421053</td>\n",
       "      <td>0.879581</td>\n",
       "      <td>0.770898</td>\n",
       "      <td>0.857629</td>\n",
       "    </tr>\n",
       "  </tbody>\n",
       "</table>\n",
       "</div>"
      ],
      "text/plain": [
       "                        Accuracy  Balance-Acc  Precision  Recall(Sensitivity)  \\\n",
       "RandomForestClassifier  0.813008     0.704644   0.792453             0.988235   \n",
       "\n",
       "                        Specificity  F1-score   AUC-ROC    AUC-PR  \n",
       "RandomForestClassifier     0.421053  0.879581  0.770898  0.857629  "
      ]
     },
     "execution_count": 62,
     "metadata": {},
     "output_type": "execute_result"
    }
   ],
   "source": [
    "print('Test set model performance: ')\n",
    "classifier = [final_model_rf]\n",
    "show_results(X_test_prepared, y_test, get_metric, classifier)"
   ]
  },
  {
   "cell_type": "code",
   "execution_count": 63,
   "metadata": {},
   "outputs": [
    {
     "data": {
      "text/html": [
       "<div>\n",
       "<style scoped>\n",
       "    .dataframe tbody tr th:only-of-type {\n",
       "        vertical-align: middle;\n",
       "    }\n",
       "\n",
       "    .dataframe tbody tr th {\n",
       "        vertical-align: top;\n",
       "    }\n",
       "\n",
       "    .dataframe thead th {\n",
       "        text-align: right;\n",
       "    }\n",
       "</style>\n",
       "<table border=\"1\" class=\"dataframe\">\n",
       "  <thead>\n",
       "    <tr style=\"text-align: right;\">\n",
       "      <th></th>\n",
       "      <th>Accuracy</th>\n",
       "      <th>Balance-Acc</th>\n",
       "      <th>Precision</th>\n",
       "      <th>Recall(Sensitivity)</th>\n",
       "      <th>Specificity</th>\n",
       "      <th>F1-score</th>\n",
       "      <th>AUC-ROC</th>\n",
       "      <th>AUC-PR</th>\n",
       "    </tr>\n",
       "  </thead>\n",
       "  <tbody>\n",
       "    <tr>\n",
       "      <th>LogisticRegression</th>\n",
       "      <td>0.829268</td>\n",
       "      <td>0.723684</td>\n",
       "      <td>0.801887</td>\n",
       "      <td>1.000000</td>\n",
       "      <td>0.447368</td>\n",
       "      <td>0.890052</td>\n",
       "      <td>0.794737</td>\n",
       "      <td>0.859262</td>\n",
       "    </tr>\n",
       "    <tr>\n",
       "      <th>VotingClassifier</th>\n",
       "      <td>0.821138</td>\n",
       "      <td>0.717802</td>\n",
       "      <td>0.800000</td>\n",
       "      <td>0.988235</td>\n",
       "      <td>0.447368</td>\n",
       "      <td>0.884211</td>\n",
       "      <td>0.785449</td>\n",
       "      <td>0.869345</td>\n",
       "    </tr>\n",
       "    <tr>\n",
       "      <th>RandomForestClassifier</th>\n",
       "      <td>0.813008</td>\n",
       "      <td>0.704644</td>\n",
       "      <td>0.792453</td>\n",
       "      <td>0.988235</td>\n",
       "      <td>0.421053</td>\n",
       "      <td>0.879581</td>\n",
       "      <td>0.770898</td>\n",
       "      <td>0.857629</td>\n",
       "    </tr>\n",
       "    <tr>\n",
       "      <th>KNeighborsClassifier</th>\n",
       "      <td>0.829268</td>\n",
       "      <td>0.738235</td>\n",
       "      <td>0.813725</td>\n",
       "      <td>0.976471</td>\n",
       "      <td>0.500000</td>\n",
       "      <td>0.887701</td>\n",
       "      <td>0.756966</td>\n",
       "      <td>0.831550</td>\n",
       "    </tr>\n",
       "    <tr>\n",
       "      <th>SVM</th>\n",
       "      <td>0.691057</td>\n",
       "      <td>0.500000</td>\n",
       "      <td>0.691057</td>\n",
       "      <td>1.000000</td>\n",
       "      <td>0.000000</td>\n",
       "      <td>0.817308</td>\n",
       "      <td>0.754180</td>\n",
       "      <td>0.834910</td>\n",
       "    </tr>\n",
       "    <tr>\n",
       "      <th>GradientBoostingClassifier</th>\n",
       "      <td>0.772358</td>\n",
       "      <td>0.718885</td>\n",
       "      <td>0.820225</td>\n",
       "      <td>0.858824</td>\n",
       "      <td>0.578947</td>\n",
       "      <td>0.839080</td>\n",
       "      <td>0.732508</td>\n",
       "      <td>0.821794</td>\n",
       "    </tr>\n",
       "    <tr>\n",
       "      <th>DecisionTreeClassifier</th>\n",
       "      <td>0.772358</td>\n",
       "      <td>0.682508</td>\n",
       "      <td>0.787879</td>\n",
       "      <td>0.917647</td>\n",
       "      <td>0.447368</td>\n",
       "      <td>0.847826</td>\n",
       "      <td>0.710681</td>\n",
       "      <td>0.791497</td>\n",
       "    </tr>\n",
       "  </tbody>\n",
       "</table>\n",
       "</div>"
      ],
      "text/plain": [
       "                            Accuracy  Balance-Acc  Precision  \\\n",
       "LogisticRegression          0.829268     0.723684   0.801887   \n",
       "VotingClassifier            0.821138     0.717802   0.800000   \n",
       "RandomForestClassifier      0.813008     0.704644   0.792453   \n",
       "KNeighborsClassifier        0.829268     0.738235   0.813725   \n",
       "SVM                         0.691057     0.500000   0.691057   \n",
       "GradientBoostingClassifier  0.772358     0.718885   0.820225   \n",
       "DecisionTreeClassifier      0.772358     0.682508   0.787879   \n",
       "\n",
       "                            Recall(Sensitivity)  Specificity  F1-score  \\\n",
       "LogisticRegression                     1.000000     0.447368  0.890052   \n",
       "VotingClassifier                       0.988235     0.447368  0.884211   \n",
       "RandomForestClassifier                 0.988235     0.421053  0.879581   \n",
       "KNeighborsClassifier                   0.976471     0.500000  0.887701   \n",
       "SVM                                    1.000000     0.000000  0.817308   \n",
       "GradientBoostingClassifier             0.858824     0.578947  0.839080   \n",
       "DecisionTreeClassifier                 0.917647     0.447368  0.847826   \n",
       "\n",
       "                             AUC-ROC    AUC-PR  \n",
       "LogisticRegression          0.794737  0.859262  \n",
       "VotingClassifier            0.785449  0.869345  \n",
       "RandomForestClassifier      0.770898  0.857629  \n",
       "KNeighborsClassifier        0.756966  0.831550  \n",
       "SVM                         0.754180  0.834910  \n",
       "GradientBoostingClassifier  0.732508  0.821794  \n",
       "DecisionTreeClassifier      0.710681  0.791497  "
      ]
     },
     "execution_count": 63,
     "metadata": {},
     "output_type": "execute_result"
    }
   ],
   "source": [
    "classifiers = [final_model_SVM, final_model_lr, final_model_rf, final_tree, final_clf, voting_clf, final_gbrt]\n",
    "show_results(X_test_prepared, y_test, get_metric, classifiers)"
   ]
  },
  {
   "cell_type": "code",
   "execution_count": 64,
   "metadata": {},
   "outputs": [
    {
     "data": {
      "image/png": "[encoded data removed]",
      "text/plain": [
       "<Figure size 432x288 with 2 Axes>"
      ]
     },
     "metadata": {
      "needs_background": "light"
     },
     "output_type": "display_data"
    }
   ],
   "source": [
    "from sklearn.metrics import plot_confusion_matrix\n",
    "plot_confusion_matrix(final_model_rf, X_test_prepared, y_test);"
   ]
  },
  {
   "cell_type": "markdown",
   "metadata": {},
   "source": [
    "## Comment:\n",
    "- From the above model performance metrics, we can see that `RandomForestClassifier` performances pretty well.\n",
    "- It has the a AUC-PR score 0.86 and AUC-ROC with 0.77. Also it has an accuracy with 0.81, sensitivity is 0.99 and specificity is about 0.42."
   ]
  },
  {
   "cell_type": "markdown",
   "metadata": {},
   "source": [
    "##### Discussion:\n",
    "There are only 491 instances in the train set and 123 instances in the test set. Notice that some attributes have missing values. We will need to take care of it by using SimpleImputer. Some attributes are numerical, while the others are object, meaning that we need to encode these nun-numerical columns by using OneHotEncoder for nominal columns and \n",
    "OrdinalEncoder for ordinal columns. \n",
    "\n",
    "Things that worked out well was exploring the training set - looking at the distribution of individual features on the histograms:\n",
    "- There is a positive correlation between `ApplicantIncome` and `LoanAmount`, which is 0.56.\n",
    "\n",
    "I also noticed that the Loan_Status frequency in both training dataset and test dataset are unbalanced. In this case, I used a balanced accuracy score instead of accuracy to evaluate the model performance. After training several models, I found that RandomForestClassifier had the highest AUC-ROC score with 0.78 in the validation dataset after tunning, the final test AUC-ROC score is 0.77.\n",
    "\n",
    "However, the difficulties experienced were due to the small sample size:\n",
    "- features engineering did not help much of the model performance\n",
    "- the model tunning did not significantly increase the performance \n",
    "\n",
    "Things did not work out:\n",
    "- how to further improve the model performance\n",
    "\n",
    "For the future directions, we should try to get a bigger dataset in order to get a better model performence."
   ]
  },
  {
   "cell_type": "code",
   "execution_count": null,
   "metadata": {},
   "outputs": [],
   "source": []
  }
 ],
 "metadata": {
  "kernelspec": {
   "display_name": "Python 3",
   "language": "python",
   "name": "python3"
  },
  "language_info": {
   "codemirror_mode": {
    "name": "ipython",
    "version": 3
   },
   "file_extension": ".py",
   "mimetype": "text/x-python",
   "name": "python",
   "nbconvert_exporter": "python",
   "pygments_lexer": "ipython3",
   "version": "3.8.8"
  }
 },
 "nbformat": 4,
 "nbformat_minor": 4
}
